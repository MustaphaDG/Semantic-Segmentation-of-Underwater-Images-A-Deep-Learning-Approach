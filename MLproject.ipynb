{
  "cells": [
    {
      "cell_type": "markdown",
      "metadata": {
        "id": "U1K7gaPADqn6"
      },
      "source": [
        "**Objectifs du projet:**\n",
        "\n",
        "Les données viennent du dataset SUIM Potsdam. Le but est de segmenter les images au niveau du pixel selon 5 classes: humain - récif - épave - robot - poisson. Nous considérons avoir 80% du jeu de données pour l'entraînement et 20% pour l'évaluation.\n",
        "\n",
        "**Structure du dossier:**\n",
        "\n",
        "train_val/ contient 1525 échantillons appariés pour l'entraînement/la validation\n",
        "images/ : Images RVB de scènes sous-marines\n",
        "masques/ : étiquettes de segmentation\n",
        "Chaque couleur RGB représente une catégorie d'objet différente\n",
        "TEST/ : 110 échantillons appariés pour l'évaluation de référence\n",
        "images/ : Images de test RGB\n",
        "masques/ : étiquettes des vérités de base\n",
        "Des masques RVB combinés sont fournis\n",
        "Les masques binaires individuels sont également fournis dans des dossiers séparés.\n"
      ]
    },
    {
      "cell_type": "code",
      "execution_count": 2,
      "metadata": {
        "id": "Ls3uKx7L4HJS"
      },
      "outputs": [],
      "source": [
        "from google.colab import auth\n",
        "auth.authenticate_user()\n"
      ]
    },
    {
      "cell_type": "code",
      "execution_count": 1,
      "metadata": {
        "colab": {
          "base_uri": "https://localhost:8080/"
        },
        "id": "vHpj-zgW4KJd",
        "outputId": "fb6daf6b-022a-4d9f-f246-8c0f3472a430"
      },
      "outputs": [
        {
          "ename": "ModuleNotFoundError",
          "evalue": "No module named 'google'",
          "output_type": "error",
          "traceback": [
            "\u001b[1;31m---------------------------------------------------------------------------\u001b[0m",
            "\u001b[1;31mModuleNotFoundError\u001b[0m                       Traceback (most recent call last)",
            "\u001b[1;32mc:\\Users\\dell\\Desktop\\MLproject.ipynb Cell 3\u001b[0m line \u001b[0;36m1\n\u001b[1;32m----> <a href='vscode-notebook-cell:/c%3A/Users/dell/Desktop/MLproject.ipynb#W2sZmlsZQ%3D%3D?line=0'>1</a>\u001b[0m \u001b[39mfrom\u001b[39;00m \u001b[39mgoogle\u001b[39;00m\u001b[39m.\u001b[39;00m\u001b[39mcolab\u001b[39;00m \u001b[39mimport\u001b[39;00m drive\n\u001b[0;32m      <a href='vscode-notebook-cell:/c%3A/Users/dell/Desktop/MLproject.ipynb#W2sZmlsZQ%3D%3D?line=1'>2</a>\u001b[0m drive\u001b[39m.\u001b[39mmount(\u001b[39m'\u001b[39m\u001b[39m/content/gdrive\u001b[39m\u001b[39m'\u001b[39m)\n\u001b[0;32m      <a href='vscode-notebook-cell:/c%3A/Users/dell/Desktop/MLproject.ipynb#W2sZmlsZQ%3D%3D?line=2'>3</a>\u001b[0m root_path \u001b[39m=\u001b[39m \u001b[39m'\u001b[39m\u001b[39mgdrive/My Drive/\u001b[39m\u001b[39m'\u001b[39m\n",
            "\u001b[1;31mModuleNotFoundError\u001b[0m: No module named 'google'"
          ]
        }
      ],
      "source": [
        "from google.colab import drive\n",
        "drive.mount('/content/gdrive')\n",
        "root_path = 'gdrive/My Drive/'"
      ]
    },
    {
      "cell_type": "code",
      "execution_count": 4,
      "metadata": {
        "id": "LrK-pQsS6I86"
      },
      "outputs": [],
      "source": [
        "import torch\n",
        "import torch.nn as nn\n",
        "from torch.utils.data import Dataset\n",
        "from torch.utils.data.dataloader import DataLoader\n",
        "from glob import glob\n",
        "import os\n",
        "import cv2\n",
        "import numpy as np\n",
        "import random\n",
        "import time\n",
        "import matplotlib.pyplot as plt\n",
        "import fnmatch\n",
        "import itertools as it\n",
        "from __future__ import print_function"
      ]
    },
    {
      "cell_type": "code",
      "execution_count": 6,
      "metadata": {
        "id": "1b39Lb8240Jl"
      },
      "outputs": [],
      "source": [
        "path = '/content/gdrive/MyDrive/segmentation sous marine'"
      ]
    },
    {
      "cell_type": "code",
      "execution_count": 7,
      "metadata": {
        "id": "UzjMCXPEmu7H"
      },
      "outputs": [],
      "source": [
        "# On définit la fonction load data qui prend en arguement le chemin vers les données et renvoie 4 listes avec les chemins triés des images originales de test et d'entrainement ainsi que les masques de tests et d'entrainements.\n",
        "def load_data(path):\n",
        "\n",
        "  \"\"\"\n",
        "  retourne 4 listes contenant chacune des chemins triés vers les images originales ou les masques pour l'entrainement et le test.\n",
        "  args :\n",
        "    path : Chemin vers les données.\n",
        "  return : \n",
        "    listes de chemins\n",
        "  \"\"\"\n",
        "\n",
        "  X_train = sorted(glob(os.path.join(path, \"train_val\", \"train_val\",\"images\", \"*jpg\")))\n",
        "  y_train = sorted(glob(os.path.join(path, \"train_val\",\"train_val\", \"masks\", \"*bmp\")))\n",
        "\n",
        "  X_test = sorted(glob(os.path.join(path, \"TEST\",\"TEST\", \"images\", \"*jpg\")))\n",
        "  y_test = sorted(glob(os.path.join(path, \"TEST\",\"TEST\", \"masks\", \"*bmp\")))\n",
        "  return X_train, y_train, X_test, y_test"
      ]
    },
    {
      "cell_type": "code",
      "execution_count": 8,
      "metadata": {
        "id": "oun9q_stn-Ou"
      },
      "outputs": [],
      "source": [
        "\"\"\"RGB color code and object categories:\n",
        "------------------------------------\n",
        "000 BW: Background waterbody\n",
        "001 HD: Human divers\n",
        "010 PF: Plants/sea-grass\n",
        "011 WR: Wrecks/ruins\n",
        "100 RO: Robots/instruments\n",
        "101 RI: Reefs and invertebrates\n",
        "110 FV: Fish and vertebrates\n",
        "111 SR: Sand/sea-floor (& rocks)\"\"\"\n",
        "\n",
        "def getRobotFishHumanReefWrecks(mask):\n",
        "    # for categories: HD, RO, FV, WR, RI\n",
        "  imw, imh = mask.shape[0], mask.shape[1]\n",
        "  Human = np.zeros((imw, imh))\n",
        "  Robot = np.zeros((imw, imh))\n",
        "  Fish = np.zeros((imw, imh))\n",
        "  Reef = np.zeros((imw, imh))\n",
        "  Wreck = np.zeros((imw, imh))\n",
        "  for i in range(imw):\n",
        " \n",
        "    for j in range(imh):\n",
        "        if (mask[i,j,0]==0 and mask[i,j,1]==0 and mask[i,j,2]==1):\n",
        "            Human[i, j] = 1 \n",
        "        elif (mask[i,j,0]==1 and mask[i,j,1]==0 and mask[i,j,2]==0):\n",
        "            Robot[i, j] = 1\n",
        "        elif (mask[i,j,0]==1 and mask[i,j,1]==1 and mask[i,j,2]==0):\n",
        "            Fish[i, j] = 1\n",
        "        elif (mask[i,j,0]==1 and mask[i,j,1]==0 and mask[i,j,2]==1):\n",
        "            Reef[i, j] = 1\n",
        "        elif (mask[i,j,0]==0 and mask[i,j,1]==1 and mask[i,j,2]==1):\n",
        "            Wreck[i, j] = 1\n",
        "        else: pass\n",
        "  return np.stack((Robot, Fish, Human, Reef, Wreck), -1)\n"
      ]
    },
    {
      "cell_type": "code",
      "execution_count": 9,
      "metadata": {
        "id": "ysFte5G9oMcl"
      },
      "outputs": [],
      "source": [
        "def getRobotFishHumanWrecks(mask):\n",
        "  # for categories: HD, RO, FV, WR\n",
        "  imw, imh = mask.shape[0], mask.shape[1]\n",
        "  Human = np.zeros((imw, imh))\n",
        "  Robot = np.zeros((imw, imh))\n",
        "  Fish = np.zeros((imw, imh))\n",
        "  Wreck = np.zeros((imw, imh))\n",
        "  for i in range(imw):\n",
        "\n",
        "    for j in range(imh):\n",
        "      if (mask[i,j,0]==0 and mask[i,j,1]==0 and mask[i,j,2]==1):\n",
        "          Human[i, j] = 1 \n",
        "      elif (mask[i,j,0]==1 and mask[i,j,1]==0 and mask[i,j,2]==0):\n",
        "          Robot[i, j] = 1\n",
        "      elif (mask[i,j,0]==1 and mask[i,j,1]==1 and mask[i,j,2]==0):\n",
        "          Fish[i, j] = 1\n",
        "      elif (mask[i,j,0]==0 and mask[i,j,1]==1 and mask[i,j,2]==1):\n",
        "          Wreck[i, j] = 1\n",
        "      else: pass\n",
        "  return np.stack((Robot, Fish, Human, Wreck), -1)\n",
        "\n"
      ]
    },
    {
      "cell_type": "code",
      "execution_count": 10,
      "metadata": {
        "id": "XFknRgOwoo7t"
      },
      "outputs": [],
      "source": [
        "def getSaliency(mask):\n",
        "    # one combined category: HD/RO/FV/WR\n",
        "  imw, imh = mask.shape[0], mask.shape[1]\n",
        "  sal = np.zeros((imw, imh))\n",
        "  for i in range(imw):\n",
        "    for j in range(imh):\n",
        "        if (mask[i,j,0]==0 and mask[i,j,1]==0 and mask[i,j,2]==1):\n",
        "            sal[i, j] = 1 \n",
        "        elif (mask[i,j,0]==1 and mask[i,j,1]==0 and mask[i,j,2]==0):\n",
        "            sal[i, j] = 1\n",
        "        elif (mask[i,j,0]==1 and mask[i,j,1]==1 and mask[i,j,2]==0):\n",
        "            sal[i, j] = 1\n",
        "        elif (mask[i,j,0]==0 and mask[i,j,1]==1 and mask[i,j,2]==1):\n",
        "            sal[i, j] = 0.8\n",
        "        else: pass\n",
        "  return np.expand_dims(sal, axis=-1)\n"
      ]
    },
    {
      "cell_type": "code",
      "execution_count": 11,
      "metadata": {
        "id": "rw1pwZ_Row3u"
      },
      "outputs": [],
      "source": [
        "def processSUIMDataRFHW(img, mask, sal=False):\n",
        "    # scaling image data and masks\n",
        "    img = img / 255\n",
        "    mask = mask /255\n",
        "    mask[mask > 0.5] = 1\n",
        "    mask[mask <= 0.5] = 0\n",
        "    m = []\n",
        "    m.append(getRobotFishHumanReefWrecks(mask))\n",
        "            #m.append(getRobotFishHumanWrecks(mask[i]))\n",
        "    m = np.array(m)\n",
        "    m = np.squeeze(m, axis=0)\n",
        "    return (img, m)"
      ]
    },
    {
      "cell_type": "code",
      "execution_count": 12,
      "metadata": {
        "id": "6hciu6t2mvBV"
      },
      "outputs": [],
      "source": [
        "\n",
        "# On définit cette classe qui permet d'importer les images et masques tout en appliquant quelques opérations dessus\n",
        "class importData(Dataset):\n",
        "  def __init__(self, images_path, masks_path): # Constructeur de la class importData\n",
        "\n",
        "    self.images_path = images_path # Chemin des images\n",
        "    self.masks_path = masks_path # Chemin des masques\n",
        "    self.n_samples = len(images_path) # Nombre d'images\n",
        "\n",
        "  def __getitem__(self, index):\n",
        "    image = cv2.imread(self.images_path[index], cv2.IMREAD_COLOR)  # lecture de l'image\n",
        "    mask = cv2.imread(self.masks_path[index], cv2.IMREAD_COLOR)\n",
        "    #print(\"image_shape\",image.shape)\n",
        "    image = cv2.resize(image, (320, 240), interpolation = cv2.INTER_AREA) # On resize l'image\n",
        "    #print(\"after resize image_shape\",image.shape)\n",
        "    #print(mask.shape)\n",
        "    mask = cv2.resize(mask, (320, 240), interpolation = cv2.INTER_AREA)\n",
        "    #print(\"after resize\", mask.shape)\n",
        "    image, mask = processSUIMDataRFHW(image, mask, False)\n",
        "  \n",
        "    image = np.transpose(image, (2, 0, 1))  # On change la position du chanel pour qu'on puisse utilise pytorch l'image en entrée avait le shape suivant : (320, 320, 3) en sortie : (3, 320, 320)\n",
        "    image = image.astype(np.float32) # On convertit en type float\n",
        "\n",
        "    image = torch.from_numpy(image) # On convertit on tenseur \n",
        "\n",
        "   \n",
        "   \n",
        "    mask = np.transpose(mask, (2, 0, 1))\n",
        "    mask = mask.astype(np.float32) # On convertit en type float\n",
        "    mask = torch.from_numpy(mask) # On convertit on tenseur \n",
        "\n",
        "    return image, mask # retourne l'image et masque correspondant \n",
        "  \n",
        "  def __len__(self):\n",
        "    return self.n_samples # retourne nombre d'images"
      ]
    },
    {
      "cell_type": "code",
      "execution_count": 13,
      "metadata": {
        "id": "BsD4U27jmvEN"
      },
      "outputs": [],
      "source": [
        "def epoch_time(start_time, end_time):  # pour avoir la durée par epoch la fonction renvoie minutes et secondes écoulées par epoch\n",
        "  elapsed_time = end_time - start_time\n",
        "  elapsed_mins = int(elapsed_time / 60)\n",
        "  elapsed_secs = int(elapsed_time - (elapsed_mins * 60))\n",
        "  return elapsed_mins, elapsed_secs"
      ]
    },
    {
      "cell_type": "code",
      "execution_count": 14,
      "metadata": {
        "id": "V36wHoac9DT0"
      },
      "outputs": [],
      "source": [
        "def seed_control(seed):  # Pour controler le caractère aléatoire et assurer la reproductibilité\n",
        "  random.seed(seed)\n",
        "  np.random.seed(seed)\n",
        "  torch.manual_seed(seed)\n",
        "  torch.cuda.manual_seed(seed)\n",
        "  torch.backends.deterministic = True"
      ]
    },
    {
      "cell_type": "code",
      "execution_count": 15,
      "metadata": {
        "id": "gPef0furXOyp"
      },
      "outputs": [],
      "source": [
        "class Down(nn.Module):\n",
        "  def __init__(self):\n",
        "    super().__init__()\n",
        "    self.conv1 = nn.Conv2d(3, 64, padding=\"same\", kernel_size=(3,3))\n",
        "    self.conv1_ = nn.Conv2d(64, 64, padding=\"same\", kernel_size=(3,3))\n",
        "    self.pool1 = nn.MaxPool2d(kernel_size=(2, 2))\n",
        "    self.conv2 = nn.Conv2d(64, 128, padding=\"same\", kernel_size=(3,3))\n",
        "    self.conv2_ = nn.Conv2d(128, 128, padding=\"same\", kernel_size=(3,3))\n",
        "    self.pool2 = nn.MaxPool2d(kernel_size=(2, 2))\n",
        "    self.conv3 = nn.Conv2d(128, 256, padding=\"same\", kernel_size=(3,3))\n",
        "    self.conv3_ = nn.Conv2d(256, 256, padding=\"same\", kernel_size=(3,3))\n",
        "    self.pool3 = nn.MaxPool2d(kernel_size=(2, 2))\n",
        "    self.conv4 = nn.Conv2d(256, 512, padding=\"same\", kernel_size=(3,3))\n",
        "    self.conv4_ = nn.Conv2d(512, 512, padding=\"same\", kernel_size=(3,3))\n",
        "    self.drop4 = nn.Dropout(p=0.5)\n",
        "    self.pool4 = nn.MaxPool2d(kernel_size=(2, 2))\n",
        "    self.conv5 = nn.Conv2d(512, 1024, padding=\"same\", kernel_size=(3,3))\n",
        "    self.conv5_ = nn.Conv2d(1024, 1024, padding=\"same\", kernel_size=(3,3))\n",
        "    self.drop5 = nn.Dropout(p=0.5)\n",
        "    self.relu = nn.ReLU()\n",
        "\n",
        "  def forward(self, inputs):\n",
        "\n",
        "    x = self.conv1(inputs)\n",
        "    x = self.relu(x)\n",
        "    x = self.conv1_(x)\n",
        "    up1 = self.relu(x)\n",
        "    x = self.pool1(x)\n",
        "\n",
        "    x = self.conv2(x)\n",
        "    x = self.relu(x)\n",
        "    x = self.conv2_(x)\n",
        "    up2 = self.relu(x)\n",
        "    x = self.pool2(x)\n",
        "\n",
        "    x = self.conv3(x)\n",
        "    x = self.relu(x)\n",
        "    x = self.conv3_(x)\n",
        "    up3 = self.relu(x)\n",
        "    x = self.pool3(x)\n",
        "\n",
        "    x = self.conv4(x)\n",
        "    x = self.relu(x)\n",
        "    x = self.conv4_(x)\n",
        "    up4 = self.relu(x)\n",
        "    drop_4 = self.drop4(x)\n",
        "    \n",
        "    x = self.pool4(drop_4)\n",
        "\n",
        "    x = self.conv5(x)\n",
        "    x = self.relu(x)\n",
        "    x = self.conv5_(x)\n",
        "    x = self.relu(x)\n",
        "    drop_5 = self.drop5(x)\n",
        "\n",
        "    return up1, up2, up3, drop_4, drop_5"
      ]
    },
    {
      "cell_type": "code",
      "execution_count": 16,
      "metadata": {
        "id": "q9PUpxwae2tT"
      },
      "outputs": [],
      "source": [
        "class UNet(nn.Module):\n",
        "  def __init__(self):\n",
        "    super().__init__()\n",
        "    self.down = Down()\n",
        "    self.up_1 = nn.Upsample(scale_factor=2)\n",
        "    self.conv1 = nn.Conv2d(1024, 512, padding=\"same\", kernel_size=(2,2))\n",
        "    self.conv1_ = nn.Conv2d(2*512, 512, padding=\"same\", kernel_size=(3,3))\n",
        "    self.conv1__ = nn.Conv2d(512, 512, padding=\"same\", kernel_size=(3,3))\n",
        "\n",
        "    self.up_2 = nn.Upsample(scale_factor=2)\n",
        "    self.conv2 = nn.Conv2d(512, 256, padding=\"same\", kernel_size=(2,2))\n",
        "    self.conv2_ = nn.Conv2d(2*256, 256, padding=\"same\", kernel_size=(3,3))\n",
        "    self.conv2__ = nn.Conv2d(256, 256, padding=\"same\", kernel_size=(3,3))\n",
        "\n",
        "    self.up_3 = nn.Upsample(scale_factor=2)\n",
        "    self.conv3 = nn.Conv2d(256, 128, padding=\"same\", kernel_size=(2,2))\n",
        "    self.conv3_ = nn.Conv2d(2*128, 128, padding=\"same\", kernel_size=(3,3))\n",
        "    self.conv3__ = nn.Conv2d(128, 128, padding=\"same\", kernel_size=(3,3))\n",
        "\n",
        "    self.up_4 = nn.Upsample(scale_factor=2)\n",
        "    self.conv4 = nn.Conv2d(128, 64, padding=\"same\", kernel_size=(2,2))\n",
        "    self.conv4_ = nn.Conv2d(2*64, 64, padding=\"same\", kernel_size=(3,3))\n",
        "    self.conv4__ = nn.Conv2d(64, 64, padding=\"same\", kernel_size=(3,3))\n",
        "\n",
        "    self.conv5 = nn.Conv2d(64, 3, padding=\"same\", kernel_size=(3,3))\n",
        "    self.conv5_ = nn.Conv2d(3, 5, padding=\"same\", kernel_size=(3,3))\n",
        "    self.relu = nn.ReLU()\n",
        "    self.sigmoid = nn.Sigmoid()\n",
        "\n",
        "  def forward(self, inputs):\n",
        "\n",
        "    down1, down2, down3, drop_4, drop_5 = self.down(inputs)\n",
        "    \n",
        "    x = self.up_1(drop_5)\n",
        "    \n",
        "    x = self.conv1(x)\n",
        "    x = self.relu(x)\n",
        "    \n",
        "    merge1 = torch.cat([drop_4, x], axis=1)\n",
        "    \n",
        "    x = self.conv1_(merge1)\n",
        "    x = self.relu(x)\n",
        "    \n",
        "    x = self.conv1__(x)\n",
        "    x = self.relu(x)\n",
        "    \n",
        "    x = self.up_2(x)\n",
        "    x = self.conv2(x)\n",
        "    x = self.relu(x)\n",
        "    merge2 = torch.cat([down3, x], axis=1)\n",
        "    x = self.conv2_(merge2)\n",
        "    x = self.relu(x)\n",
        "    x = self.conv2__(x)\n",
        "    x = self.relu(x)\n",
        "\n",
        "    x = self.up_3(x)\n",
        "    x = self.conv3(x)\n",
        "    x = self.relu(x)\n",
        "    merge3 = torch.cat([down2, x], axis=1)\n",
        "    x = self.conv3_(merge3)\n",
        "    x = self.relu(x)\n",
        "    x = self.conv3__(x)\n",
        "    x = self.relu(x)\n",
        "\n",
        "    x = self.up_4(x)\n",
        "    x = self.conv4(x)\n",
        "    x = self.relu(x)\n",
        "    merge4 = torch.cat([down1, x], axis=1)\n",
        "\n",
        "    x = self.conv4_(merge4)\n",
        "    x = self.relu(x)\n",
        "    x = self.conv4__(x)\n",
        "    x = self.relu(x)\n",
        "    \n",
        "    x = self.conv5(x)\n",
        "    x = self.relu(x)\n",
        "    x = self.conv5_(x)\n",
        "    x = self.sigmoid(x)\n",
        "\n",
        "    return x"
      ]
    },
    {
      "cell_type": "code",
      "execution_count": 17,
      "metadata": {
        "id": "RK12ZK6i1iLe"
      },
      "outputs": [],
      "source": [
        "seed_control(21) \n",
        "X_train, y_train, X_valid, y_valid = load_data(path) # Les chemins des données \n",
        "\n",
        "H = 320 # Height de l'image \n",
        "W = 240 # Width de l'image\n",
        "size = (H, W)\n",
        "batch_size = 10  \n",
        "num_epochs = 25 # Nombre d'epochs\n",
        "lr = 1e-4 # Learning rate\n",
        "\n",
        "train_dataset = importData(X_train, y_train) # données d'entrainement\n",
        "valid_dataset = importData(X_valid, y_valid) # données de test\n",
        "# On load nos données d'entrainement\n",
        "train_loader = DataLoader(\n",
        "    dataset=train_dataset,\n",
        "    batch_size=batch_size,\n",
        "    shuffle=True,\n",
        "    num_workers=2\n",
        ")\n",
        "# On load nos données de test\n",
        "valid_loader = DataLoader(\n",
        "    dataset=valid_dataset,\n",
        "    batch_size=batch_size,\n",
        "    shuffle=False,\n",
        "    num_workers=2\n",
        ")"
      ]
    },
    {
      "cell_type": "code",
      "execution_count": 16,
      "metadata": {
        "id": "vwpEQIrz268Q"
      },
      "outputs": [],
      "source": [
        "device = torch.device('cuda' if torch.cuda.is_available() else 'cpu')\n",
        "model = UNet() # Initialisation du modèle\n",
        "model = model.to(device)"
      ]
    },
    {
      "cell_type": "code",
      "execution_count": 17,
      "metadata": {
        "id": "J0bLcVm3k562"
      },
      "outputs": [],
      "source": [
        "#loss\n",
        "loss_fn = torch.nn.BCELoss()      #binary cross entropy \n",
        "#optimizer\n",
        "optimizer = torch.optim.Adam(model.parameters()) "
      ]
    },
    {
      "cell_type": "code",
      "execution_count": 18,
      "metadata": {
        "id": "xkn5L72k3Gow"
      },
      "outputs": [],
      "source": [
        "def train(model, loader, optimizer, loss_fn, device): # Nous renvoie les loss tout en effectuant back propogation (calcul grads) et on updates les paramètres \n",
        "  epoch_loss = 0.0\n",
        "  \n",
        "  model.train()\n",
        "  for x,y in loader: # on boocle sr les données\n",
        "    x = x.to(device, dtype=torch.float32) # tenseur image originale\n",
        "    y = y.to(device, dtype=torch.float32) # tenseur masque\n",
        "\n",
        "    optimizer.zero_grad()\n",
        "    out = model(x) # predictions des saliency maps\n",
        "    \n",
        "    loss = loss_fn(out, y) # calcul de la loss\n",
        "    \n",
        "    loss.backward() # back propagation\n",
        "    optimizer.step() # on optimise la loss avec adam\n",
        "    epoch_loss = epoch_loss + loss.item()\n",
        "  \n",
        "  epoch_loss = epoch_loss/len(loader) # on normalise\n",
        "\n",
        "\n",
        "  return epoch_loss"
      ]
    },
    {
      "cell_type": "code",
      "execution_count": 19,
      "metadata": {
        "id": "M-vKCRxB3Wex"
      },
      "outputs": [],
      "source": [
        "def evaluate(model, loader, loss_fn, device):  # Nous renvoie les vals loss\n",
        "  epoch_loss = 0.0\n",
        "  model.eval()\n",
        "\n",
        "  with torch.no_grad():\n",
        "    for x,y in loader: # on boocle sur les données\n",
        "      x = x.to(device, dtype=torch.float32) # tenseur image originale\n",
        "      y = y.to(device, dtype=torch.float32) # tenseur masque\n",
        "      out = model(x) # predictions des saliency maps\n",
        "      loss = loss_fn(out, y) # calcul de la loss\n",
        "      epoch_loss = epoch_loss + loss.item()\n",
        "\n",
        "    epoch_loss = epoch_loss/len(loader)\n",
        "    \n",
        "\n",
        "  return epoch_loss"
      ]
    },
    {
      "cell_type": "code",
      "execution_count": 20,
      "metadata": {
        "colab": {
          "base_uri": "https://localhost:8080/"
        },
        "id": "hyqtJ_6p3jG6",
        "outputId": "eff57956-4116-478f-dc85-49559d934712"
      },
      "outputs": [
        {
          "name": "stderr",
          "output_type": "stream",
          "text": [
            "/usr/local/lib/python3.9/dist-packages/torch/nn/modules/conv.py:459: UserWarning: Using padding='same' with even kernel lengths and odd dilation may require a zero-padded copy of the input be created (Triggered internally at ../aten/src/ATen/native/Convolution.cpp:895.)\n",
            "  return F.conv2d(input, weight, bias, self.stride,\n"
          ]
        },
        {
          "name": "stdout",
          "output_type": "stream",
          "text": [
            "Epoch : 01 / Epoch Time : 10m 59s\t Train Loss : 0.670 \n",
            "\t Val Loss : 0.638 \n",
            "\t Val Loss checkpoint: 0.638\n",
            "\n",
            "Epoch : 02 / Epoch Time : 7m 52s\t Train Loss : 0.619 \n",
            "\t Val Loss : 0.587 \n",
            "\t Val Loss checkpoint: 0.587\n",
            "\n",
            "Epoch : 03 / Epoch Time : 7m 51s\t Train Loss : 0.574 \n",
            "\t Val Loss : 0.543 \n",
            "\t Val Loss checkpoint: 0.543\n",
            "\n",
            "Epoch : 04 / Epoch Time : 7m 51s\t Train Loss : 0.535 \n",
            "\t Val Loss : 0.505 \n",
            "\t Val Loss checkpoint: 0.505\n",
            "\n",
            "Epoch : 05 / Epoch Time : 7m 50s\t Train Loss : 0.501 \n",
            "\t Val Loss : 0.473 \n",
            "\t Val Loss checkpoint: 0.473\n",
            "\n",
            "Epoch : 06 / Epoch Time : 7m 54s\t Train Loss : 0.471 \n",
            "\t Val Loss : 0.445 \n",
            "\t Val Loss checkpoint: 0.445\n",
            "\n",
            "Epoch : 07 / Epoch Time : 7m 51s\t Train Loss : 0.446 \n",
            "\t Val Loss : 0.420 \n",
            "\t Val Loss checkpoint: 0.420\n",
            "\n",
            "Epoch : 08 / Epoch Time : 7m 53s\t Train Loss : 0.424 \n",
            "\t Val Loss : 0.399 \n",
            "\t Val Loss checkpoint: 0.399\n",
            "\n",
            "Epoch : 09 / Epoch Time : 7m 50s\t Train Loss : 0.404 \n",
            "\t Val Loss : 0.381 \n",
            "\t Val Loss checkpoint: 0.381\n",
            "\n",
            "Epoch : 10 / Epoch Time : 7m 50s\t Train Loss : 0.387 \n",
            "\t Val Loss : 0.365 \n",
            "\t Val Loss checkpoint: 0.365\n",
            "\n",
            "Epoch : 11 / Epoch Time : 7m 54s\t Train Loss : 0.373 \n",
            "\t Val Loss : 0.352 \n",
            "\t Val Loss checkpoint: 0.352\n",
            "\n",
            "Epoch : 12 / Epoch Time : 7m 51s\t Train Loss : 0.360 \n",
            "\t Val Loss : 0.340 \n",
            "\t Val Loss checkpoint: 0.340\n",
            "\n",
            "Epoch : 13 / Epoch Time : 7m 51s\t Train Loss : 0.348 \n",
            "\t Val Loss : 0.330 \n",
            "\t Val Loss checkpoint: 0.330\n",
            "\n",
            "Epoch : 14 / Epoch Time : 7m 50s\t Train Loss : 0.338 \n",
            "\t Val Loss : 0.321 \n",
            "\t Val Loss checkpoint: 0.321\n",
            "\n",
            "Epoch : 15 / Epoch Time : 7m 52s\t Train Loss : 0.330 \n",
            "\t Val Loss : 0.313 \n",
            "\t Val Loss checkpoint: 0.313\n",
            "\n",
            "Epoch : 16 / Epoch Time : 7m 49s\t Train Loss : 0.322 \n",
            "\t Val Loss : 0.306 \n",
            "\t Val Loss checkpoint: 0.306\n",
            "\n",
            "Epoch : 17 / Epoch Time : 7m 51s\t Train Loss : 0.315 \n",
            "\t Val Loss : 0.300 \n",
            "\t Val Loss checkpoint: 0.300\n",
            "\n",
            "Epoch : 18 / Epoch Time : 7m 52s\t Train Loss : 0.309 \n",
            "\t Val Loss : 0.295 \n",
            "\t Val Loss checkpoint: 0.295\n",
            "\n",
            "Epoch : 19 / Epoch Time : 7m 46s\t Train Loss : 0.304 \n",
            "\t Val Loss : 0.290 \n",
            "\t Val Loss checkpoint: 0.290\n",
            "\n",
            "Epoch : 20 / Epoch Time : 7m 44s\t Train Loss : 0.300 \n",
            "\t Val Loss : 0.286 \n",
            "\t Val Loss checkpoint: 0.286\n",
            "\n",
            "Epoch : 21 / Epoch Time : 7m 42s\t Train Loss : 0.295 \n",
            "\t Val Loss : 0.282 \n",
            "\t Val Loss checkpoint: 0.282\n",
            "\n",
            "Epoch : 22 / Epoch Time : 7m 44s\t Train Loss : 0.292 \n",
            "\t Val Loss : 0.279 \n",
            "\t Val Loss checkpoint: 0.279\n",
            "\n",
            "Epoch : 23 / Epoch Time : 7m 45s\t Train Loss : 0.288 \n",
            "\t Val Loss : 0.276 \n",
            "\t Val Loss checkpoint: 0.276\n",
            "\n",
            "Epoch : 24 / Epoch Time : 7m 43s\t Train Loss : 0.286 \n",
            "\t Val Loss : 0.274 \n",
            "\t Val Loss checkpoint: 0.274\n",
            "\n",
            "Epoch : 25 / Epoch Time : 7m 45s\t Train Loss : 0.283 \n",
            "\t Val Loss : 0.272 \n",
            "\t Val Loss checkpoint: 0.272\n",
            "\n"
          ]
        }
      ],
      "source": [
        "best_val_loss = np.inf # grande valeur \n",
        "checkpoint_path = '/content/gdrive/MyDrive/checkpoint.pth' # chemin des checkpoints\n",
        "\n",
        "for epoch in range(num_epochs): # On boucle sur le nombre d'epochs\n",
        "  start_time = time.time() # temps de début\n",
        "\n",
        "  training_loss = train(model, train_loader, optimizer, loss_fn, device) # Calcul des loss et updates params\n",
        "  valid_loss = evaluate(model, valid_loader, loss_fn, device) # calcul val loss\n",
        "\n",
        "  end_time = time.time() # temps de fin\n",
        "  epoch_mins, epoch_secs = epoch_time(start_time, end_time) # calcul des minutes et secondes de la durée de l'epoch\n",
        "\n",
        "  data_str = f'Epoch : {epoch+1:02} / Epoch Time : {epoch_mins}m {epoch_secs}s'\n",
        "  data_str += f'\\t Train Loss : {training_loss:.3f} \\n'\n",
        "  data_str += f'\\t Val Loss : {valid_loss:.3f} \\n'\n",
        "\n",
        "  # Saving the model\n",
        "\n",
        "  if valid_loss < best_val_loss : # On enregistre un chzckpoint si la valid loss est meilleure que la précédente\n",
        "    best_val_loss = valid_loss\n",
        "    torch.save(model.state_dict(), checkpoint_path)\n",
        "  data_str += f'\\t Val Loss checkpoint: {best_val_loss:.3f}\\n'\n",
        "  \n",
        "  print(data_str)"
      ]
    },
    {
      "cell_type": "code",
      "execution_count": 18,
      "metadata": {
        "colab": {
          "base_uri": "https://localhost:8080/"
        },
        "id": "GQ3B2Axk1K8I",
        "outputId": "0b876730-5ed7-4006-9be3-50387aa92549"
      },
      "outputs": [
        {
          "data": {
            "text/plain": [
              "<All keys matched successfully>"
            ]
          },
          "execution_count": 18,
          "metadata": {},
          "output_type": "execute_result"
        }
      ],
      "source": [
        "# On load le checkpoint \n",
        "checkpoint_path = '/content/gdrive/MyDrive/checkpoint.pth'\n",
        "device = torch.device('cuda' if torch.cuda.is_available() else 'cpu')\n",
        "model_train = UNet() # Initialisation du modèle\n",
        "model_train = model_train.to(device)\n",
        "model_train.load_state_dict(torch.load(checkpoint_path, map_location=device))"
      ]
    },
    {
      "cell_type": "code",
      "execution_count": 182,
      "metadata": {
        "id": "HRRJIeF92OmI"
      },
      "outputs": [],
      "source": [
        "im_to_test = train_dataset[1][0]\n",
        "mask_target = train_dataset[1][1]"
      ]
    },
    {
      "cell_type": "code",
      "execution_count": 183,
      "metadata": {
        "id": "VYsJBnIs2XAV"
      },
      "outputs": [],
      "source": [
        "x = np.expand_dims(im_to_test, axis=0)\n",
        "x = x.astype(np.float32)\n",
        "x = torch.from_numpy(x)\n",
        "x = x.to(device)"
      ]
    },
    {
      "cell_type": "code",
      "execution_count": 184,
      "metadata": {
        "id": "C9pPXdTz2lGc"
      },
      "outputs": [],
      "source": [
        "with torch.no_grad():\n",
        "  out = model_train(x)"
      ]
    },
    {
      "cell_type": "code",
      "execution_count": 185,
      "metadata": {
        "colab": {
          "base_uri": "https://localhost:8080/"
        },
        "id": "ZEH_ez5K26yJ",
        "outputId": "54a27d3a-c516-45c1-9371-0e1251e367f9"
      },
      "outputs": [
        {
          "data": {
            "text/plain": [
              "torch.Size([1, 5, 240, 320])"
            ]
          },
          "execution_count": 185,
          "metadata": {},
          "output_type": "execute_result"
        }
      ],
      "source": [
        "out.size()"
      ]
    },
    {
      "cell_type": "code",
      "execution_count": 155,
      "metadata": {
        "colab": {
          "base_uri": "https://localhost:8080/"
        },
        "id": "Urnk3V7Y2y0I",
        "outputId": "22e1ef9f-df55-448c-81a4-1fa73bf2abe3"
      },
      "outputs": [
        {
          "data": {
            "text/plain": [
              "(240, 320, 5)"
            ]
          },
          "execution_count": 155,
          "metadata": {},
          "output_type": "execute_result"
        }
      ],
      "source": [
        "out = out[0].cpu().numpy()\n",
        "#out>0.5\n",
        "out=np.moveaxis(out, 0, -1)\n",
        "out[out > 0.5] = 1\n",
        "out[out <= 0.5] = 0\n",
        "out.shape\n",
        "\n"
      ]
    },
    {
      "cell_type": "code",
      "execution_count": 168,
      "metadata": {
        "colab": {
          "base_uri": "https://localhost:8080/"
        },
        "id": "qAoUEqt34HVZ",
        "outputId": "a30269a1-b63b-498c-be36-f5b8b8b5912e"
      },
      "outputs": [
        {
          "data": {
            "text/plain": [
              "(5, 240, 320)"
            ]
          },
          "execution_count": 168,
          "metadata": {},
          "output_type": "execute_result"
        }
      ],
      "source": [
        "\n",
        "y = mask_target.cpu().numpy()\n",
        "y.shape"
      ]
    },
    {
      "cell_type": "code",
      "execution_count": 156,
      "metadata": {
        "colab": {
          "base_uri": "https://localhost:8080/",
          "height": 269
        },
        "id": "cQ6xQ0yg4xKu",
        "outputId": "a8127da4-9fa4-4f61-feb4-8c9a661c7e89"
      },
      "outputs": [
        {
          "data": {
            "image/png": "[encoded data removed]",
            "text/plain": [
              "<Figure size 432x288 with 1 Axes>"
            ]
          },
          "metadata": {
            "needs_background": "light"
          },
          "output_type": "display_data"
        }
      ],
      "source": [
        "ori = im_to_test.cpu().numpy()\n",
        "ori=np.moveaxis(ori, 0, -1)\n",
        "im = cv2.cvtColor(ori, cv2.COLOR_BGR2RGB)\n",
        "plt.imshow(im)\n",
        "\n",
        "plt.show()"
      ]
    },
    {
      "cell_type": "code",
      "execution_count": 169,
      "metadata": {
        "colab": {
          "base_uri": "https://localhost:8080/",
          "height": 286
        },
        "id": "w1ETC0nH6dl7",
        "outputId": "d67d2722-4149-470d-fe8b-dfe3c15eac51"
      },
      "outputs": [
        {
          "name": "stdout",
          "output_type": "stream",
          "text": [
            "(240, 320, 5)\n"
          ]
        },
        {
          "data": {
            "image/png": "[encoded data removed]",
            "text/plain": [
              "<Figure size 432x288 with 1 Axes>"
            ]
          },
          "metadata": {
            "needs_background": "light"
          },
          "output_type": "display_data"
        }
      ],
      "source": [
        "y=np.moveaxis(y, 0, -1)\n",
        "print(y.shape)\n",
        "im = y[:,:,0]\n",
        "plt.imshow(im,cmap='gray')\n",
        "\n",
        "plt.show()"
      ]
    },
    {
      "cell_type": "code",
      "execution_count": 170,
      "metadata": {
        "colab": {
          "base_uri": "https://localhost:8080/",
          "height": 269
        },
        "id": "4aotwcRd4LWG",
        "outputId": "612ba176-6b0e-40ce-ed39-a6661019af3c"
      },
      "outputs": [
        {
          "data": {
            "image/png": "[encoded data removed]",
            "text/plain": [
              "<Figure size 432x288 with 1 Axes>"
            ]
          },
          "metadata": {
            "needs_background": "light"
          },
          "output_type": "display_data"
        }
      ],
      "source": [
        "im = y[:,:,1]\n",
        "plt.imshow(im,cmap='gray')\n",
        "\n",
        "plt.show()"
      ]
    },
    {
      "cell_type": "code",
      "execution_count": 171,
      "metadata": {
        "colab": {
          "base_uri": "https://localhost:8080/",
          "height": 269
        },
        "id": "7eBNr6ki4Rd-",
        "outputId": "77c15039-82c1-40b0-a1cb-2806bfc9b5c7"
      },
      "outputs": [
        {
          "data": {
            "image/png": "[encoded data removed]",
            "text/plain": [
              "<Figure size 432x288 with 1 Axes>"
            ]
          },
          "metadata": {
            "needs_background": "light"
          },
          "output_type": "display_data"
        }
      ],
      "source": [
        "im = y[:,:,2]\n",
        "plt.imshow(im,cmap='gray')\n",
        "\n",
        "plt.show()"
      ]
    },
    {
      "cell_type": "code",
      "execution_count": 172,
      "metadata": {
        "colab": {
          "base_uri": "https://localhost:8080/",
          "height": 269
        },
        "id": "umhY9NNL4U4u",
        "outputId": "bc009b52-69ef-4b08-b741-531c90c20b6f"
      },
      "outputs": [
        {
          "data": {
            "image/png": "[encoded data removed]",
            "text/plain": [
              "<Figure size 432x288 with 1 Axes>"
            ]
          },
          "metadata": {
            "needs_background": "light"
          },
          "output_type": "display_data"
        }
      ],
      "source": [
        "im = y[:,:,3]\n",
        "plt.imshow(im,cmap='gray')\n",
        "\n",
        "plt.show()"
      ]
    },
    {
      "cell_type": "code",
      "execution_count": 173,
      "metadata": {
        "colab": {
          "base_uri": "https://localhost:8080/",
          "height": 269
        },
        "id": "qp3OY1hn4YJV",
        "outputId": "8d5e6968-f19e-4c95-ad80-e1685fe4f3d3"
      },
      "outputs": [
        {
          "data": {
            "image/png": "[encoded data removed]",
            "text/plain": [
              "<Figure size 432x288 with 1 Axes>"
            ]
          },
          "metadata": {
            "needs_background": "light"
          },
          "output_type": "display_data"
        }
      ],
      "source": [
        "im = y[:,:,4]\n",
        "plt.imshow(im,cmap='gray')\n",
        "\n",
        "plt.show()"
      ]
    },
    {
      "cell_type": "code",
      "execution_count": 191,
      "metadata": {
        "colab": {
          "base_uri": "https://localhost:8080/",
          "height": 286
        },
        "id": "emhNr5G16PoO",
        "outputId": "94fe5366-1475-479a-d7ee-2f09870cdafa"
      },
      "outputs": [
        {
          "name": "stdout",
          "output_type": "stream",
          "text": [
            "torch.Size([1, 5, 240, 320])\n"
          ]
        },
        {
          "data": {
            "image/png": "[encoded data removed]",
            "text/plain": [
              "<Figure size 432x288 with 1 Axes>"
            ]
          },
          "metadata": {
            "needs_background": "light"
          },
          "output_type": "display_data"
        }
      ],
      "source": [
        "print(out.shape)\n",
        "im = out[:,:,0]\n",
        "plt.imshow(im,cmap='gray')\n",
        "\n",
        "plt.show()"
      ]
    },
    {
      "cell_type": "code",
      "execution_count": 192,
      "metadata": {
        "colab": {
          "base_uri": "https://localhost:8080/",
          "height": 269
        },
        "id": "dhnGv4Ry5Dgk",
        "outputId": "1bd90d4b-6e88-4d0f-89c4-48e3520b5ce4"
      },
      "outputs": [
        {
          "data": {
            "image/png": "[encoded data removed]",
            "text/plain": [
              "<Figure size 432x288 with 1 Axes>"
            ]
          },
          "metadata": {
            "needs_background": "light"
          },
          "output_type": "display_data"
        }
      ],
      "source": [
        "im = out[:,:,1]\n",
        "plt.imshow(im,cmap='gray')\n",
        "\n",
        "plt.show()"
      ]
    },
    {
      "cell_type": "code",
      "execution_count": 176,
      "metadata": {
        "colab": {
          "base_uri": "https://localhost:8080/",
          "height": 269
        },
        "id": "t1wnQXyD5ELm",
        "outputId": "25b9be12-81f7-4343-c2ba-7923ac4b8b96"
      },
      "outputs": [
        {
          "data": {
            "image/png": "[encoded data removed]",
            "text/plain": [
              "<Figure size 432x288 with 1 Axes>"
            ]
          },
          "metadata": {
            "needs_background": "light"
          },
          "output_type": "display_data"
        }
      ],
      "source": [
        "im = out[:,:,2]\n",
        "plt.imshow(im,cmap='gray')\n",
        "\n",
        "plt.show()"
      ]
    },
    {
      "cell_type": "code",
      "execution_count": 177,
      "metadata": {
        "colab": {
          "base_uri": "https://localhost:8080/",
          "height": 269
        },
        "id": "l0SvvYJm5E0K",
        "outputId": "8fdc316b-5898-4aa6-c8ca-b17a3dd7bab7"
      },
      "outputs": [
        {
          "data": {
            "image/png": "[encoded data removed]",
            "text/plain": [
              "<Figure size 432x288 with 1 Axes>"
            ]
          },
          "metadata": {
            "needs_background": "light"
          },
          "output_type": "display_data"
        }
      ],
      "source": [
        "im = out[:,:,3]\n",
        "plt.imshow(im,cmap='gray')\n",
        "\n",
        "plt.show()"
      ]
    },
    {
      "cell_type": "code",
      "execution_count": 178,
      "metadata": {
        "colab": {
          "base_uri": "https://localhost:8080/",
          "height": 269
        },
        "id": "lP1S717G5Im_",
        "outputId": "2825e591-d98b-4e5b-e6f3-9344fe893111"
      },
      "outputs": [
        {
          "data": {
            "image/png": "[encoded data removed]",
            "text/plain": [
              "<Figure size 432x288 with 1 Axes>"
            ]
          },
          "metadata": {
            "needs_background": "light"
          },
          "output_type": "display_data"
        }
      ],
      "source": [
        "im = out[:,:,4]\n",
        "plt.imshow(im,cmap='gray')\n",
        "\n",
        "plt.show()"
      ]
    },
    {
      "cell_type": "markdown",
      "metadata": {
        "id": "g3n-PLN2FG0B"
      },
      "source": [
        "D'après les résultats obtenues, on peut conclure que le modèle a bien convergé et réalise la tache de segmentation.\n",
        "Pour ameliorer ce modèle, on peut augmenter le nombre d'epoch ou également utiliser loss qui penalise plus l'erreur sur les pixels classés 1 plusqu'ils sont moins nombreux. "
      ]
    }
  ],
  "metadata": {
    "accelerator": "GPU",
    "colab": {
      "provenance": []
    },
    "gpuClass": "standard",
    "kernelspec": {
      "display_name": "Python 3",
      "name": "python3"
    },
    "language_info": {
      "codemirror_mode": {
        "name": "ipython",
        "version": 3
      },
      "file_extension": ".py",
      "mimetype": "text/x-python",
      "name": "python",
      "nbconvert_exporter": "python",
      "pygments_lexer": "ipython3",
      "version": "3.10.11"
    }
  },
  "nbformat": 4,
  "nbformat_minor": 0
}
